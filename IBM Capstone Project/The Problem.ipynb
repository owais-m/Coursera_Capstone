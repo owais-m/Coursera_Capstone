{
 "cells": [
  {
   "cell_type": "markdown",
   "metadata": {},
   "source": [
    "## Business Problem\n",
    "\n",
    "Entreprenuership is inherently risky. It becomes even more risky if the venture is consumer facing in a geographic location with which you're not familiar. Restaurant businesses are one the most difficult businesses to run because the entrepreneur has to cater multiple factors some of which may not be in their control. Let's imagine we are an entrepreneur who wants to open a restaurant in Chicago but he is unfamiliar with the city and the type of people who visit the restaurant.\n",
    "\n",
    "To find a favourable area to open the restaurant, we must focous on crime. Chicago has been in the news lately because of increasing street crime. Although, the violence may be predictable and specific to certain districts, as an entrepreneur who is new to Chicago one would want to know where the crimes are taking place. The restaurant business will be severely affected by street crime especially violent crime. Thus, as a risk averse entrepreneur we must explore Chicago's crime trends.\n",
    "\n",
    "After, identifying safe districts I would also like to look at the famous venues in those districts to get a better idea of the the type of restaurant visitors in that area. Customer segmentation is a very important part of any business."
   ]
  },
  {
   "cell_type": "code",
   "execution_count": null,
   "metadata": {
    "collapsed": true
   },
   "outputs": [],
   "source": []
  }
 ],
 "metadata": {
  "kernelspec": {
   "display_name": "Python 3",
   "language": "python",
   "name": "python3"
  },
  "language_info": {
   "codemirror_mode": {
    "name": "ipython",
    "version": 3
   },
   "file_extension": ".py",
   "mimetype": "text/x-python",
   "name": "python",
   "nbconvert_exporter": "python",
   "pygments_lexer": "ipython3",
   "version": "3.6.3"
  }
 },
 "nbformat": 4,
 "nbformat_minor": 2
}
