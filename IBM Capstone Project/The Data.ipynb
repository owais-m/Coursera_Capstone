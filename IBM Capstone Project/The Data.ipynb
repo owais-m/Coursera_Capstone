{
 "cells": [
  {
   "cell_type": "markdown",
   "metadata": {},
   "source": [
    "## The Data\n",
    "\n",
    "For crime data, we will be using data from https://data.cityofchicago.org/Public-Safety/Crimes-2001-to-present/ijzp-q8t2?source=post_page--------------------------- This dataset reflects reported incidents of crime (with the exception of murders where data exists for each victim) that occurred in the City of Chicago from 2001 to present, minus the most recent seven days. The dataset has more than 6 million data points and is greater than 1.8 GB in size. Since data from the past may not be relevant, we will only be using the last five years data. As such a large dataset may not fit in a laptop, the dataset has been split, saved and uploaded from pickle format From that data, we will limit our analysis only to the type of crimes that are relevant to restaurant business. The data is content-rich since it has 30 columns. The geographical data has been used for geospatial analysis.\n",
    "\n",
    "For more information about venues in the favorable areas, we will use Foursquare API. Data about 200 most popular venues was scraped. Using community area, districts, postal codes, zip codes, etc, the venues only in favourable districts were analysed to see what type of visitors visit public spaces in those community areas and districts."
   ]
  }
 ],
 "metadata": {
  "kernelspec": {
   "display_name": "Python 3",
   "language": "python",
   "name": "python3"
  },
  "language_info": {
   "codemirror_mode": {
    "name": "ipython",
    "version": 3
   },
   "file_extension": ".py",
   "mimetype": "text/x-python",
   "name": "python",
   "nbconvert_exporter": "python",
   "pygments_lexer": "ipython3",
   "version": "3.6.3"
  }
 },
 "nbformat": 4,
 "nbformat_minor": 2
}
